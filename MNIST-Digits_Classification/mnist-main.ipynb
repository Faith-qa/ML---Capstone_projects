{
 "cells": [
  {
   "cell_type": "markdown",
   "id": "5a5094d5-85f2-4319-baf0-44dc6dff5779",
   "metadata": {},
   "source": [
    "# MNIST digits classification dataset\n",
    "This is a dataset of 60,000 28x28 grayscale images of the 10 digits, along with a test set of 10,000 images"
   ]
  },
  {
   "cell_type": "code",
   "execution_count": 2,
   "id": "77f82beb-3820-424a-be5e-ba1ac7a46c5b",
   "metadata": {},
   "outputs": [],
   "source": [
    "# import required library\n",
    "import tensorflow as tf\n",
    "import matplotlib.pyplot as plt\n"
   ]
  },
  {
   "cell_type": "markdown",
   "id": "ca65db41-0f06-484f-8300-d611f4d94a64",
   "metadata": {},
   "source": [
    "## pipeline"
   ]
  },
  {
   "cell_type": "code",
   "execution_count": null,
   "id": "b0272f82-edf5-4876-89d5-866a7ba099bd",
   "metadata": {},
   "outputs": [],
   "source": [
    "# load the dataset\n",
    "(X_train_full, y_train_full), (x_test, y_test) = tf.deras.mnist)\n",
    "\n",
    "(X_train_full, y_train_full), (X_test, y_test) = tf.keras.datasets.mnist.load_data()\n"
   ]
  }
 ],
 "metadata": {
  "kernelspec": {
   "display_name": "MNIST_env",
   "language": "python",
   "name": "mnist_env"
  },
  "language_info": {
   "codemirror_mode": {
    "name": "ipython",
    "version": 3
   },
   "file_extension": ".py",
   "mimetype": "text/x-python",
   "name": "python",
   "nbconvert_exporter": "python",
   "pygments_lexer": "ipython3",
   "version": "3.12.4"
  }
 },
 "nbformat": 4,
 "nbformat_minor": 5
}
